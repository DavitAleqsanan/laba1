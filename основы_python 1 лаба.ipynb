{
  "cells": [
    {
      "cell_type": "markdown",
      "metadata": {
        "id": "M-DGa20PaHnu"
      },
      "source": [
        "#Задача 1\n",
        "Написать функцию на вход которой подается строка, состоящая из латинских букв.\n",
        "Функция должна вернуть количество гласных букв (a, e, i, o, u) в этой строке. Написать тесты для кода"
      ]
    },
    {
      "cell_type": "code",
      "execution_count": 15,
      "metadata": {
        "id": "XvX8X_JJ6PCb"
      },
      "outputs": [
        {
          "data": {
            "text/plain": [
              "[('hello', True),\n",
              " ('world', True),\n",
              " ('AEIOU', True),\n",
              " ('Python', True),\n",
              " ('bcdfg', True),\n",
              " ('', True)]"
            ]
          },
          "execution_count": 15,
          "metadata": {},
          "output_type": "execute_result"
        }
      ],
      "source": [
        "# Your code goes here\n",
        "# Функция для подсчета гласных букв в строке\n",
        "def count_vowels(s: str) -> int:\n",
        "    vowels = set('aeiouAEIOU')  # Множество гласных букв\n",
        "    return sum(1 for char in s if char in vowels)  # Подсчет гласных букв\n",
        "\n",
        "# Тесты для функции\n",
        "test_strings = [\n",
        "    (\"hello\", 2),  # 2 гласные: 'e', 'o'\n",
        "    (\"world\", 1),  # 1 гласная: 'o'\n",
        "    (\"AEIOU\", 5),  # 5 гласных: 'A', 'E', 'I', 'O', 'U'\n",
        "    (\"Python\", 1), # 1 гласная: 'o'\n",
        "    (\"bcdfg\", 0),  # 0 гласных\n",
        "    (\"\", 0),       # пустая строка\n",
        "]\n",
        "\n",
        "# Проверка функции на тестовых строках\n",
        "test_results = [(s, count_vowels(s) == expected) for s, expected in test_strings]\n",
        "test_results\n"
      ]
    },
    {
      "cell_type": "markdown",
      "metadata": {
        "id": "t2ClV_Y0bbr6"
      },
      "source": [
        "# Задача 2\n",
        "Написать функцию на вход, которой подается строка. Функция должна вернуть true, если\n",
        "каждый символ в строке встречается только 1 раз, иначе должна вернуть false. Написать тесты для кода"
      ]
    },
    {
      "cell_type": "code",
      "execution_count": 16,
      "metadata": {
        "id": "FppbECao6VIz"
      },
      "outputs": [
        {
          "data": {
            "text/plain": [
              "'All tests passed!'"
            ]
          },
          "execution_count": 16,
          "metadata": {},
          "output_type": "execute_result"
        }
      ],
      "source": [
        "# Your code goes here# Функция для проверки уникальности символов в строке\n",
        "def all_unique_chars(s: str) -> bool:\n",
        "    return len(s) == len(set(s))\n",
        "\n",
        "# Тесты для функции\n",
        "def test_all_unique_chars():\n",
        "    assert all_unique_chars(\"abcdef\") == True, \"Test case 1 failed\"\n",
        "    assert all_unique_chars(\"hello\") == False, \"Test case 2 failed\"\n",
        "    assert all_unique_chars(\"123456\") == True, \"Test case 3 failed\"\n",
        "    assert all_unique_chars(\"Python\") == True, \"Test case 4 failed\"\n",
        "    assert all_unique_chars(\"aabbcc\") == False, \"Test case 5 failed\"\n",
        "    assert all_unique_chars(\"\") == True, \"Test case 6 failed\"  # Пустая строка - все символы уникальны\n",
        "\n",
        "# Запуск тестов\n",
        "test_all_unique_chars()\n",
        "\n",
        "\"All tests passed!\"\n",
        "\n"
      ]
    },
    {
      "cell_type": "markdown",
      "metadata": {
        "id": "udRiIK1cdt6E"
      },
      "source": [
        "# Задача 3\n",
        "Написать функцию, которая принимает положительное число и возвращает количество\n",
        "бит равных 1 в этом числе. Написать тесты для кода"
      ]
    },
    {
      "cell_type": "code",
      "execution_count": 17,
      "metadata": {
        "id": "6tkfDJRz6dp_"
      },
      "outputs": [
        {
          "data": {
            "text/plain": [
              "{0: 0, 1: 1, 2: 1, 7: 3, 10: 2, 255: 8, 1023: 10}"
            ]
          },
          "execution_count": 17,
          "metadata": {},
          "output_type": "execute_result"
        }
      ],
      "source": [
        "# Your code goes here\n",
        "# Реализуем функцию для подсчета количества бит, равных 1, в положительном числе\n",
        "def count_bits(n: int) -> int:\n",
        "    return bin(n).count('1')\n",
        "\n",
        "# Тестируем функцию\n",
        "test_cases = [0, 1, 2, 7, 10, 255, 1023]\n",
        "\n",
        "# Вывод результатов\n",
        "results = {n: count_bits(n) for n in test_cases}\n",
        "results\n",
        "\n"
      ]
    },
    {
      "cell_type": "markdown",
      "metadata": {
        "id": "26dDUz-Ae17N"
      },
      "source": [
        "# Задача 4\n",
        "Написать функцию, которая принимает положительное число. Функция должна вернуть то,\n",
        "сколько раз необходимо перемножать цифры числа или результат перемножения, чтобы\n",
        "получилось число состоящее из одной цифры.\n",
        "Например, для входного числа:\n",
        "· 39 функция должна вернуть 3, так как 3*9=27 => 2*7=14 => 1*4=4\n",
        "· 4 функция должна вернуть 0, так как число уже состоит из одной цифры\n",
        "· 999 функция должна вернуть 4, так как 9*9*9=729 => 7*2*9=126 => 1*2*6=12 =>\n",
        "1*2=2. Написать тесты для кода"
      ]
    },
    {
      "cell_type": "code",
      "execution_count": 18,
      "metadata": {
        "id": "BH1A_Mgi6i4G"
      },
      "outputs": [
        {
          "name": "stdout",
          "output_type": "stream",
          "text": [
            "3\n",
            "0\n",
            "4\n",
            "2\n"
          ]
        }
      ],
      "source": [
        "def persistence(n):\n",
        "    count = 0\n",
        "    while n >= 10:\n",
        "        product = 1\n",
        "        for digit in str(n):\n",
        "            product *= int(digit)\n",
        "        n = product\n",
        "        count += 1\n",
        "    return count\n",
        "print(persistence(39))   # 3 (39 -> 27 -> 14 -> 4)\n",
        "print(persistence(4))    # 0 (4 уже однозначное)\n",
        "print(persistence(999))  # 4 (999 -> 729 -> 126 -> 12 -> 2)\n",
        "print(persistence(25))   # 2 (25 -> 10 -> 1)\n",
        "def test_persistence():\n",
        "    assert persistence(39) == 3\n",
        "    assert persistence(4) == 0\n",
        "    assert persistence(999) == 4\n",
        "    assert persistence(25) == 2\n",
        "    assert persistence(10) == 1\n",
        "    assert persistence(123) == 1\n",
        "    assert persistence(1) == 0\n",
        "    assert persistence(11) == 1\n",
        "\n",
        "test_persistence()\n",
        "\n",
        "\n"
      ]
    },
    {
      "cell_type": "markdown",
      "metadata": {
        "id": "0nS-kIa8g8vd"
      },
      "source": [
        "# Задача 5\n",
        "Написать функцию, которая принимает два целочисленных вектора одинаковой длины и\n",
        "возвращает среднеквадратическое отклонение двух векторов. Написать тесты для кода"
      ]
    },
    {
      "cell_type": "code",
      "execution_count": 10,
      "metadata": {
        "id": "8iphx4LM6xbx"
      },
      "outputs": [
        {
          "name": "stdout",
          "output_type": "stream",
          "text": [
            "Пример 1:\n",
            "Среднеквадратическое отклонение: 0.0\n",
            "\n",
            "Пример 2:\n",
            "Среднеквадратическое отклонение: 3.0\n",
            "Тест 1: Одинаковые векторы\n",
            "Среднеквадратическое отклонение: 0.0\n",
            "Тест пройден\n",
            "\n",
            "Тест 2: Разные векторы\n",
            "Среднеквадратическое отклонение: 3.0\n",
            "Тест пройден\n",
            "\n",
            "Тест 3: Векторы с отрицательными числами\n",
            "Среднеквадратическое отклонение: 4.320493798938574\n",
            "Тест провален, результат: 4.320493798938574\n",
            "\n",
            "Тест 4: Проверка на разные длины векторов\n",
            "Ошибка: Векторы должны быть одинаковой длины\n"
          ]
        }
      ],
      "source": [
        "import math\n",
        "\n",
        "def rmse(vector1, vector2):\n",
        "    if len(vector1) != len(vector2):\n",
        "        print(\"Ошибка: Векторы должны быть одинаковой длины\")\n",
        "        return\n",
        "    \n",
        "    squared_diff_sum = 0\n",
        "    for a, b in zip(vector1, vector2):\n",
        "        squared_diff_sum += (a - b) ** 2\n",
        "    \n",
        "    mean_squared_diff = squared_diff_sum / len(vector1)\n",
        "    result = math.sqrt(mean_squared_diff)\n",
        "    print(f\"Среднеквадратическое отклонение: {result}\")\n",
        "    return result\n",
        "# Пример 1: Одинаковые векторы\n",
        "print(\"Пример 1:\")\n",
        "rmse([1, 2, 3], [1, 2, 3])  # Ожидаемый результат: 0.0\n",
        "\n",
        "# Пример 2: Разные векторы\n",
        "print(\"\\nПример 2:\")\n",
        "rmse([1, 2, 3], [4, 5, 6])  # Ожидаемый результат: 3.0\n",
        "def test_rmse():\n",
        "    print(\"Тест 1: Одинаковые векторы\")\n",
        "    result = rmse([1, 2, 3], [1, 2, 3])\n",
        "    if result == 0.0:\n",
        "        print(\"Тест пройден\")\n",
        "    else:\n",
        "        print(f\"Тест провален, результат: {result}\")\n",
        "    \n",
        "    print(\"\\nТест 2: Разные векторы\")\n",
        "    result = rmse([1, 2, 3], [4, 5, 6])\n",
        "    if result == 3.0:\n",
        "        print(\"Тест пройден\")\n",
        "    else:\n",
        "        print(f\"Тест провален, результат: {result}\")\n",
        "    \n",
        "    print(\"\\nТест 3: Векторы с отрицательными числами\")\n",
        "    result = rmse([-1, -2, -3], [1, 2, 3])\n",
        "    expected = 4.898979485566356\n",
        "    if abs(result - expected) < 1e-9:\n",
        "        print(\"Тест пройден\")\n",
        "    else:\n",
        "        print(f\"Тест провален, результат: {result}\")\n",
        "    \n",
        "    print(\"\\nТест 4: Проверка на разные длины векторов\")\n",
        "    rmse([1, 2], [1, 2, 3])  # Ожидаемая ошибка\n",
        "\n",
        "# Запуск тестов\n",
        "test_rmse()\n",
        "\n",
        "\n",
        "\n",
        "\n"
      ]
    },
    {
      "cell_type": "markdown",
      "metadata": {
        "id": "vpIPKL439zkw"
      },
      "source": [
        "# Задача 6\n",
        "Написать функцию, принимающая целое положительное число. Функция должна вернуть\n",
        "строку вида “(n1**p1)(n2**p2)…(nk**pk)” представляющая разложение числа на простые\n",
        "множители (если pi == 1, то выводить только ni).\n",
        "Например, для числа 86240 функция должна вернуть “(2**5)(5)(7**2)(11)”. Написать тесты для кода"
      ]
    },
    {
      "cell_type": "code",
      "execution_count": 2,
      "metadata": {
        "id": "pFebmcZk94Jw"
      },
      "outputs": [
        {
          "name": "stdout",
          "output_type": "stream",
          "text": [
            "(2**5)(5)(7**2)(11)\n",
            "Все тесты пройдены.\n"
          ]
        }
      ],
      "source": [
        "# Your code goes here\n",
        "from collections import defaultdict\n",
        "\n",
        "def prime_factors_decomposition(n):\n",
        "    def prime_factors(n):\n",
        "        factors = defaultdict(int)  # Храним множители и их степени\n",
        "        divisor = 2\n",
        "        while n > 1:\n",
        "            while n % divisor == 0:\n",
        "                factors[divisor] += 1\n",
        "                n //= divisor\n",
        "            divisor += 1\n",
        "        return factors\n",
        "    \n",
        "    factors = prime_factors(n)\n",
        "    \n",
        "    # Формируем строку результата\n",
        "    result = []\n",
        "    for factor, power in sorted(factors.items()):\n",
        "        if power == 1:\n",
        "            result.append(f\"({factor})\")\n",
        "        else:\n",
        "            result.append(f\"({factor}**{power})\")\n",
        "    \n",
        "    return ''.join(result)\n",
        "print(prime_factors_decomposition(86240))  # Ожидаемый результат: (2**5)(5)(7**2)(11)\n",
        "def test_prime_factors_decomposition():\n",
        "    # Тест 1: Простое число\n",
        "    assert prime_factors_decomposition(11) == \"(11)\", \"Ошибка: должно быть (11)\"\n",
        "    \n",
        "    # Тест 2: Число с разными простыми множителями\n",
        "    assert prime_factors_decomposition(86240) == \"(2**5)(5)(7**2)(11)\", \"Ошибка: должно быть (2**5)(5)(7**2)(11)\"\n",
        "    \n",
        "    # Тест 3: Простое число в степени\n",
        "    assert prime_factors_decomposition(32) == \"(2**5)\", \"Ошибка: должно быть (2**5)\"\n",
        "    \n",
        "    # Тест 4: Составное число с одним простым множителем\n",
        "    assert prime_factors_decomposition(100) == \"(2**2)(5**2)\", \"Ошибка: должно быть (2**2)(5**2)\"\n",
        "    \n",
        "    # Тест 5: Единица (не имеет простых множителей)\n",
        "    try:\n",
        "        prime_factors_decomposition(1)\n",
        "    except ValueError as e:\n",
        "        assert str(e) == \"Number must be greater than 1\", \"Ошибка: функция должна выдавать ошибку для 1\"\n",
        "\n",
        "# Запуск тестов\n",
        "test_prime_factors_decomposition()\n",
        "print(\"Все тесты пройдены.\")\n"
      ]
    },
    {
      "cell_type": "markdown",
      "metadata": {
        "id": "ps2s0BudX7A2"
      },
      "source": [
        "# Задача 7\n",
        "Написать функцию, принимающая целое число n, задающее количество кубиков. Функция\n",
        "должна определить, можно ли из данного кол-ва кубиков построить пирамиду, то есть\n",
        "можно ли представить число n как 1^2+2^2+3^2+…+k^2. Если можно, то функция должна\n",
        "вернуть k, иначе строку “It is impossible”. Написать тесты для кода"
      ]
    },
    {
      "cell_type": "code",
      "execution_count": 11,
      "metadata": {
        "id": "3YPjEXxhX_YT"
      },
      "outputs": [
        {
          "name": "stdout",
          "output_type": "stream",
          "text": [
            "Количество кубиков: 14, Результат: 3\n",
            "Количество кубиков: 30, Результат: 4\n",
            "Количество кубиков: 1, Результат: 1\n",
            "Тест 1: Проверка на 14 кубиков\n",
            "Результат: 3 (ожидается 3)\n",
            "\n",
            "Тест 2: Проверка на 30 кубиков\n",
            "Результат: 4 (ожидается 'It is impossible')\n",
            "\n",
            "Тест 3: Проверка на 1 кубик\n",
            "Результат: 1 (ожидается 1)\n",
            "\n",
            "Тест 4: Проверка на 5 кубиков\n",
            "Результат: 2 (ожидается 'It is impossible')\n"
          ]
        }
      ],
      "source": [
        "def pyramid(number):\n",
        "    # Your code goes here\n",
        "    pass\n",
        "def can_build_pyramid(n):\n",
        "    total = 0\n",
        "    k = 0\n",
        "    \n",
        "    while total < n:\n",
        "        k += 1\n",
        "        total += k**2  # Добавляем квадрат текущего уровня\n",
        "    \n",
        "    if total == n:\n",
        "        return k\n",
        "    else:\n",
        "        return \"It is impossible\"\n",
        "# Пример 1: Пирамида возможна\n",
        "result1 = can_build_pyramid(14)\n",
        "print(f\"Количество кубиков: 14, Результат: {result1}\")  # Ожидаемый результат: 3\n",
        "\n",
        "# Пример 2: Пирамида невозможна\n",
        "result2 = can_build_pyramid(30)\n",
        "print(f\"Количество кубиков: 30, Результат: {result2}\")  # Ожидаемый результат: \"It is impossible\"\n",
        "\n",
        "# Пример 3: Пирамида возможна\n",
        "result3 = can_build_pyramid(1)\n",
        "print(f\"Количество кубиков: 1, Результат: {result3}\")  # Ожидаемый результат: 1\n",
        "def test_can_build_pyramid():\n",
        "    # Тест 1: Проверка на 14 кубиков\n",
        "    print(\"Тест 1: Проверка на 14 кубиков\")\n",
        "    result = can_build_pyramid(14)\n",
        "    print(f\"Результат: {result} (ожидается 3)\")\n",
        "    \n",
        "    # Тест 2: Проверка на 30 кубиков\n",
        "    print(\"\\nТест 2: Проверка на 30 кубиков\")\n",
        "    result = can_build_pyramid(30)\n",
        "    print(f\"Результат: {result} (ожидается 'It is impossible')\")\n",
        "    \n",
        "    # Тест 3: Проверка на 1 кубик\n",
        "    print(\"\\nТест 3: Проверка на 1 кубик\")\n",
        "    result = can_build_pyramid(1)\n",
        "    print(f\"Результат: {result} (ожидается 1)\")\n",
        "    \n",
        "    # Тест 4: Проверка на 5 кубиков\n",
        "    print(\"\\nТест 4: Проверка на 5 кубиков\")\n",
        "    result = can_build_pyramid(5)\n",
        "    print(f\"Результат: {result} (ожидается 'It is impossible')\")\n",
        "\n",
        "# Запуск тестов\n",
        "test_can_build_pyramid()\n"
      ]
    },
    {
      "cell_type": "markdown",
      "metadata": {
        "id": "KeKgmIdAQMEJ"
      },
      "source": [
        "# Задача 8\n",
        "Функция принимает на вход положительное число и определяет является ли оно сбалансированным, т.е. сумма цифр до средних равна сумме цифр после. Средними в случае нечетного числа цифр считать одну цифру, в случае четного - две средних. Написать тесты для кода"
      ]
    },
    {
      "cell_type": "code",
      "execution_count": 5,
      "metadata": {
        "id": "gMAAqtqlQrZt"
      },
      "outputs": [
        {
          "name": "stdout",
          "output_type": "stream",
          "text": [
            "True\n",
            "True\n",
            "False\n",
            "Все тесты пройдены.\n"
          ]
        }
      ],
      "source": [
        "# Your code goes here\n",
        "def is_balanced(n):\n",
        "    digits = list(map(int, str(n)))  # Преобразуем число в список цифр\n",
        "    length = len(digits)\n",
        "    \n",
        "    if length < 2:\n",
        "        return True  # Одноразрядное число всегда сбалансировано\n",
        "    \n",
        "    if length % 2 == 0:\n",
        "        # Четное количество цифр: берем обе половины\n",
        "        left_part = digits[:length//2 - 1]\n",
        "        right_part = digits[length//2 + 1:]\n",
        "    else:\n",
        "        # Нечетное количество цифр: исключаем одну среднюю цифру\n",
        "        left_part = digits[:length//2]\n",
        "        right_part = digits[length//2 + 1:]\n",
        "    \n",
        "    return sum(left_part) == sum(right_part)\n",
        "print(is_balanced(123321))  # Ожидаемый результат: True\n",
        "print(is_balanced(12321))   # Ожидаемый результат: True\n",
        "print(is_balanced(123456))  # Ожидаемый результат: False\n",
        "def test_is_balanced():\n",
        "    # Тест 1: Четное количество цифр, сбалансировано\n",
        "    assert is_balanced(123321) == True, \"Ошибка: должно быть True для 123321\"\n",
        "    \n",
        "    # Тест 2: Нечетное количество цифр, сбалансировано\n",
        "    assert is_balanced(12321) == True, \"Ошибка: должно быть True для 12321\"\n",
        "    \n",
        "    # Тест 3: Четное количество цифр, не сбалансировано\n",
        "    assert is_balanced(123456) == False, \"Ошибка: должно быть False для 123456\"\n",
        "    \n",
        "    # Тест 4: Одноразрядное число\n",
        "    assert is_balanced(5) == True, \"Ошибка: должно быть True для 5\"\n",
        "    \n",
        "    # Тест 5: Двухразрядное число\n",
        "    assert is_balanced(11) == True, \"Ошибка: должно быть True для 11\"\n",
        "    \n",
        "    # Тест 6: Нечетное количество цифр, не сбалансировано\n",
        "    assert is_balanced(12341) == False, \"Ошибка: должно быть False для 12341\"\n",
        "    \n",
        "# Запуск тестов\n",
        "test_is_balanced()\n",
        "print(\"Все тесты пройдены.\")\n"
      ]
    },
    {
      "cell_type": "code",
      "execution_count": null,
      "metadata": {},
      "outputs": [],
      "source": []
    }
  ],
  "metadata": {
    "colab": {
      "provenance": []
    },
    "kernelspec": {
      "display_name": "Python 3",
      "name": "python3"
    },
    "language_info": {
      "codemirror_mode": {
        "name": "ipython",
        "version": 3
      },
      "file_extension": ".py",
      "mimetype": "text/x-python",
      "name": "python",
      "nbconvert_exporter": "python",
      "pygments_lexer": "ipython3",
      "version": "3.11.9"
    }
  },
  "nbformat": 4,
  "nbformat_minor": 0
}
